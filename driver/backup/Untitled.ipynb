{
 "cells": [
  {
   "cell_type": "code",
   "execution_count": 1,
   "metadata": {},
   "outputs": [
    {
     "name": "stdout",
     "output_type": "stream",
     "text": [
      "delay = -0.005210526315789473*abs(force) + 0.10521052631578946\n"
     ]
    }
   ],
   "source": [
    "import numpy as np\n",
    "from numpy.linalg import inv\n",
    "A = np.array([[0.1,1],[0.001,1]])\n",
    "B = np.array([[1],[20]])\n",
    "[a,b]=np.matmul(inv(A),B)\n",
    "C = inv(np.array([[a[0],b[0]],[0,1]]))\n",
    "print(\"delay = {}*abs(force) + {}\".format(C[0,0],C[0,1]))\n"
   ]
  },
  {
   "cell_type": "code",
   "execution_count": 2,
   "metadata": {},
   "outputs": [
    {
     "name": "stdout",
     "output_type": "stream",
     "text": [
      "delay = -12375.0*abs(force) + 1247.5000000000002\n"
     ]
    }
   ],
   "source": [
    "A = np.array([[10,1],[1000,1]])\n",
    "B = np.array([[0.1],[0.02]])\n",
    "[k1,k2]=np.matmul(inv(A),B)\n",
    "\n",
    "print(\"delay = {}*abs(force) + {}\".format(C[0,0],C[0,1]))"
   ]
  },
  {
   "cell_type": "code",
   "execution_count": null,
   "metadata": {},
   "outputs": [],
   "source": []
  }
 ],
 "metadata": {
  "kernelspec": {
   "display_name": "Python 3",
   "language": "python",
   "name": "python3"
  },
  "language_info": {
   "codemirror_mode": {
    "name": "ipython",
    "version": 3
   },
   "file_extension": ".py",
   "mimetype": "text/x-python",
   "name": "python",
   "nbconvert_exporter": "python",
   "pygments_lexer": "ipython3",
   "version": "3.6.5"
  }
 },
 "nbformat": 4,
 "nbformat_minor": 2
}
